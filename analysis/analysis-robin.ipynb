{
 "cells": [
  {
   "cell_type": "code",
   "execution_count": 1,
   "id": "9b2d6fa8-dadf-4df8-b7a4-fa0276e5df26",
   "metadata": {
    "ExecuteTime": {
     "end_time": "2025-04-13T10:02:14.954110Z",
     "start_time": "2025-04-13T10:02:14.868413Z"
    }
   },
   "outputs": [],
   "source": [
    "import polars as rs"
   ]
  },
  {
   "cell_type": "code",
   "execution_count": 2,
   "id": "e15fd2b7-358a-4135-855f-da30a79da5e5",
   "metadata": {
    "ExecuteTime": {
     "end_time": "2025-04-13T10:02:18.187095Z",
     "start_time": "2025-04-13T10:02:18.173268Z"
    }
   },
   "outputs": [],
   "source": [
    "df = rs.read_csv(\"../data_punctualite_typedetrain.csv\", separator=';')"
   ]
  },
  {
   "cell_type": "code",
   "execution_count": 3,
   "id": "331e12ee-6d89-400b-b34c-00a7619ac938",
   "metadata": {
    "ExecuteTime": {
     "end_time": "2025-04-13T10:02:20.020143Z",
     "start_time": "2025-04-13T10:02:20.015365Z"
    }
   },
   "outputs": [
    {
     "data": {
      "text/html": [
       "<div><style>\n",
       ".dataframe > thead > tr,\n",
       ".dataframe > tbody > tr {\n",
       "  text-align: right;\n",
       "  white-space: pre-wrap;\n",
       "}\n",
       "</style>\n",
       "<small>shape: (423, 6)</small><table border=\"1\" class=\"dataframe\"><thead><tr><th>Month</th><th>Train type</th><th>Punctuality</th><th>Number of operated trains</th><th>Number of trains with a delay inferior to 6 minutes</th><th>Minutes of delay</th></tr><tr><td>str</td><td>str</td><td>f64</td><td>i64</td><td>i64</td><td>i64</td></tr></thead><tbody><tr><td>&quot;2016-01&quot;</td><td>&quot;P&quot;</td><td>84.850414</td><td>7855</td><td>6665</td><td>22695</td></tr><tr><td>&quot;2016-02&quot;</td><td>&quot;P&quot;</td><td>87.093141</td><td>8879</td><td>7733</td><td>22372</td></tr><tr><td>&quot;2016-02&quot;</td><td>&quot;S&quot;</td><td>92.473173</td><td>19663</td><td>18183</td><td>33508</td></tr><tr><td>&quot;2016-03&quot;</td><td>&quot;IC&quot;</td><td>89.789407</td><td>50144</td><td>45024</td><td>112516</td></tr><tr><td>&quot;2016-03&quot;</td><td>&quot;P&quot;</td><td>87.54201</td><td>8629</td><td>7554</td><td>20811</td></tr><tr><td>&hellip;</td><td>&hellip;</td><td>&hellip;</td><td>&hellip;</td><td>&hellip;</td><td>&hellip;</td></tr><tr><td>&quot;2024-11&quot;</td><td>&quot;P&quot;</td><td>83.854896</td><td>6423</td><td>5386</td><td>19335</td></tr><tr><td>&quot;2024-12&quot;</td><td>&quot;IC&quot;</td><td>90.67561</td><td>49644</td><td>45015</td><td>93052</td></tr><tr><td>&quot;2025-03&quot;</td><td>&quot;IC&quot;</td><td>90.499892</td><td>41789</td><td>37819</td><td>81759</td></tr><tr><td>&quot;2025-03&quot;</td><td>&quot;L&quot;</td><td>93.15735</td><td>51179</td><td>47677</td><td>78476</td></tr><tr><td>&quot;2025-03&quot;</td><td>&quot;P&quot;</td><td>90.628707</td><td>5058</td><td>4584</td><td>10006</td></tr></tbody></table></div>"
      ],
      "text/plain": [
       "shape: (423, 6)\n",
       "┌─────────┬────────────┬─────────────┬─────────────────────┬────────────────────┬──────────────────┐\n",
       "│ Month   ┆ Train type ┆ Punctuality ┆ Number of operated  ┆ Number of trains   ┆ Minutes of delay │\n",
       "│ ---     ┆ ---        ┆ ---         ┆ trains              ┆ with a delay …     ┆ ---              │\n",
       "│ str     ┆ str        ┆ f64         ┆ ---                 ┆ ---                ┆ i64              │\n",
       "│         ┆            ┆             ┆ i64                 ┆ i64                ┆                  │\n",
       "╞═════════╪════════════╪═════════════╪═════════════════════╪════════════════════╪══════════════════╡\n",
       "│ 2016-01 ┆ P          ┆ 84.850414   ┆ 7855                ┆ 6665               ┆ 22695            │\n",
       "│ 2016-02 ┆ P          ┆ 87.093141   ┆ 8879                ┆ 7733               ┆ 22372            │\n",
       "│ 2016-02 ┆ S          ┆ 92.473173   ┆ 19663               ┆ 18183              ┆ 33508            │\n",
       "│ 2016-03 ┆ IC         ┆ 89.789407   ┆ 50144               ┆ 45024              ┆ 112516           │\n",
       "│ 2016-03 ┆ P          ┆ 87.54201    ┆ 8629                ┆ 7554               ┆ 20811            │\n",
       "│ …       ┆ …          ┆ …           ┆ …                   ┆ …                  ┆ …                │\n",
       "│ 2024-11 ┆ P          ┆ 83.854896   ┆ 6423                ┆ 5386               ┆ 19335            │\n",
       "│ 2024-12 ┆ IC         ┆ 90.67561    ┆ 49644               ┆ 45015              ┆ 93052            │\n",
       "│ 2025-03 ┆ IC         ┆ 90.499892   ┆ 41789               ┆ 37819              ┆ 81759            │\n",
       "│ 2025-03 ┆ L          ┆ 93.15735    ┆ 51179               ┆ 47677              ┆ 78476            │\n",
       "│ 2025-03 ┆ P          ┆ 90.628707   ┆ 5058                ┆ 4584               ┆ 10006            │\n",
       "└─────────┴────────────┴─────────────┴─────────────────────┴────────────────────┴──────────────────┘"
      ]
     },
     "execution_count": 3,
     "metadata": {},
     "output_type": "execute_result"
    }
   ],
   "source": [
    "df"
   ]
  },
  {
   "cell_type": "code",
   "execution_count": 4,
   "id": "dc714d76-21fb-45da-b4b6-c5f7aa63ba52",
   "metadata": {
    "ExecuteTime": {
     "end_time": "2025-04-13T11:12:40.695411Z",
     "start_time": "2025-04-13T11:12:40.693022Z"
    }
   },
   "outputs": [],
   "source": [
    "def month_to_season(month: int) -> str:\n",
    "    if month in [1, 2, 12]:\n",
    "        return \"winter\"\n",
    "    if month in [3, 4, 5]:\n",
    "        return \"spring\"\n",
    "    if month in [6, 7, 8]:\n",
    "        return \"summer\"\n",
    "    return \"autumn\""
   ]
  },
  {
   "cell_type": "code",
   "execution_count": 5,
   "id": "2cac911c-0151-4b4b-9056-ee9c0a00d3b2",
   "metadata": {
    "ExecuteTime": {
     "end_time": "2025-04-13T11:12:43.260029Z",
     "start_time": "2025-04-13T11:12:43.242587Z"
    }
   },
   "outputs": [],
   "source": [
    "# normalized data per season\n",
    "\n",
    "df_season = df.with_columns(\n",
    "    rs.col(\"Month\") \\\n",
    "        .map_elements(lambda e: month_to_season(int(e.split(\"-\")[1])), return_dtype=rs.String) \\\n",
    "        .alias(\"Season\")\n",
    ")"
   ]
  },
  {
   "cell_type": "code",
   "execution_count": 6,
   "id": "afe66b3f-bde8-43bb-ab90-34ab9c0f184b",
   "metadata": {
    "ExecuteTime": {
     "end_time": "2025-04-13T11:12:46.016901Z",
     "start_time": "2025-04-13T11:12:46.013095Z"
    }
   },
   "outputs": [
    {
     "data": {
      "text/html": [
       "<div><style>\n",
       ".dataframe > thead > tr,\n",
       ".dataframe > tbody > tr {\n",
       "  text-align: right;\n",
       "  white-space: pre-wrap;\n",
       "}\n",
       "</style>\n",
       "<small>shape: (423, 7)</small><table border=\"1\" class=\"dataframe\"><thead><tr><th>Month</th><th>Train type</th><th>Punctuality</th><th>Number of operated trains</th><th>Number of trains with a delay inferior to 6 minutes</th><th>Minutes of delay</th><th>Season</th></tr><tr><td>str</td><td>str</td><td>f64</td><td>i64</td><td>i64</td><td>i64</td><td>str</td></tr></thead><tbody><tr><td>&quot;2016-01&quot;</td><td>&quot;P&quot;</td><td>84.850414</td><td>7855</td><td>6665</td><td>22695</td><td>&quot;winter&quot;</td></tr><tr><td>&quot;2016-02&quot;</td><td>&quot;P&quot;</td><td>87.093141</td><td>8879</td><td>7733</td><td>22372</td><td>&quot;winter&quot;</td></tr><tr><td>&quot;2016-02&quot;</td><td>&quot;S&quot;</td><td>92.473173</td><td>19663</td><td>18183</td><td>33508</td><td>&quot;winter&quot;</td></tr><tr><td>&quot;2016-03&quot;</td><td>&quot;IC&quot;</td><td>89.789407</td><td>50144</td><td>45024</td><td>112516</td><td>&quot;spring&quot;</td></tr><tr><td>&quot;2016-03&quot;</td><td>&quot;P&quot;</td><td>87.54201</td><td>8629</td><td>7554</td><td>20811</td><td>&quot;spring&quot;</td></tr><tr><td>&hellip;</td><td>&hellip;</td><td>&hellip;</td><td>&hellip;</td><td>&hellip;</td><td>&hellip;</td><td>&hellip;</td></tr><tr><td>&quot;2024-11&quot;</td><td>&quot;P&quot;</td><td>83.854896</td><td>6423</td><td>5386</td><td>19335</td><td>&quot;autumn&quot;</td></tr><tr><td>&quot;2024-12&quot;</td><td>&quot;IC&quot;</td><td>90.67561</td><td>49644</td><td>45015</td><td>93052</td><td>&quot;winter&quot;</td></tr><tr><td>&quot;2025-03&quot;</td><td>&quot;IC&quot;</td><td>90.499892</td><td>41789</td><td>37819</td><td>81759</td><td>&quot;spring&quot;</td></tr><tr><td>&quot;2025-03&quot;</td><td>&quot;L&quot;</td><td>93.15735</td><td>51179</td><td>47677</td><td>78476</td><td>&quot;spring&quot;</td></tr><tr><td>&quot;2025-03&quot;</td><td>&quot;P&quot;</td><td>90.628707</td><td>5058</td><td>4584</td><td>10006</td><td>&quot;spring&quot;</td></tr></tbody></table></div>"
      ],
      "text/plain": [
       "shape: (423, 7)\n",
       "┌─────────┬────────────┬─────────────┬───────────┬────────────────────┬───────────────────┬────────┐\n",
       "│ Month   ┆ Train type ┆ Punctuality ┆ Number of ┆ Number of trains   ┆ Minutes of delay  ┆ Season │\n",
       "│ ---     ┆ ---        ┆ ---         ┆ operated  ┆ with a delay …     ┆ ---               ┆ ---    │\n",
       "│ str     ┆ str        ┆ f64         ┆ trains    ┆ ---                ┆ i64               ┆ str    │\n",
       "│         ┆            ┆             ┆ ---       ┆ i64                ┆                   ┆        │\n",
       "│         ┆            ┆             ┆ i64       ┆                    ┆                   ┆        │\n",
       "╞═════════╪════════════╪═════════════╪═══════════╪════════════════════╪═══════════════════╪════════╡\n",
       "│ 2016-01 ┆ P          ┆ 84.850414   ┆ 7855      ┆ 6665               ┆ 22695             ┆ winter │\n",
       "│ 2016-02 ┆ P          ┆ 87.093141   ┆ 8879      ┆ 7733               ┆ 22372             ┆ winter │\n",
       "│ 2016-02 ┆ S          ┆ 92.473173   ┆ 19663     ┆ 18183              ┆ 33508             ┆ winter │\n",
       "│ 2016-03 ┆ IC         ┆ 89.789407   ┆ 50144     ┆ 45024              ┆ 112516            ┆ spring │\n",
       "│ 2016-03 ┆ P          ┆ 87.54201    ┆ 8629      ┆ 7554               ┆ 20811             ┆ spring │\n",
       "│ …       ┆ …          ┆ …           ┆ …         ┆ …                  ┆ …                 ┆ …      │\n",
       "│ 2024-11 ┆ P          ┆ 83.854896   ┆ 6423      ┆ 5386               ┆ 19335             ┆ autumn │\n",
       "│ 2024-12 ┆ IC         ┆ 90.67561    ┆ 49644     ┆ 45015              ┆ 93052             ┆ winter │\n",
       "│ 2025-03 ┆ IC         ┆ 90.499892   ┆ 41789     ┆ 37819              ┆ 81759             ┆ spring │\n",
       "│ 2025-03 ┆ L          ┆ 93.15735    ┆ 51179     ┆ 47677              ┆ 78476             ┆ spring │\n",
       "│ 2025-03 ┆ P          ┆ 90.628707   ┆ 5058      ┆ 4584               ┆ 10006             ┆ spring │\n",
       "└─────────┴────────────┴─────────────┴───────────┴────────────────────┴───────────────────┴────────┘"
      ]
     },
     "execution_count": 6,
     "metadata": {},
     "output_type": "execute_result"
    }
   ],
   "source": [
    "df_season"
   ]
  },
  {
   "cell_type": "code",
   "execution_count": 7,
   "id": "22d12979-2d10-4b38-a55a-48cac3b5cd8c",
   "metadata": {
    "ExecuteTime": {
     "end_time": "2025-04-13T11:13:01.408611Z",
     "start_time": "2025-04-13T11:13:01.395585Z"
    }
   },
   "outputs": [
    {
     "data": {
      "text/html": [
       "<div><style>\n",
       ".dataframe > thead > tr,\n",
       ".dataframe > tbody > tr {\n",
       "  text-align: right;\n",
       "  white-space: pre-wrap;\n",
       "}\n",
       "</style>\n",
       "<small>shape: (4, 2)</small><table border=\"1\" class=\"dataframe\"><thead><tr><th>Season</th><th>Normalized delay</th></tr><tr><td>str</td><td>f64</td></tr></thead><tbody><tr><td>&quot;summer&quot;</td><td>1.835144</td></tr><tr><td>&quot;winter&quot;</td><td>2.031547</td></tr><tr><td>&quot;autumn&quot;</td><td>2.435647</td></tr><tr><td>&quot;spring&quot;</td><td>1.963881</td></tr></tbody></table></div>"
      ],
      "text/plain": [
       "shape: (4, 2)\n",
       "┌────────┬──────────────────┐\n",
       "│ Season ┆ Normalized delay │\n",
       "│ ---    ┆ ---              │\n",
       "│ str    ┆ f64              │\n",
       "╞════════╪══════════════════╡\n",
       "│ summer ┆ 1.835144         │\n",
       "│ winter ┆ 2.031547         │\n",
       "│ autumn ┆ 2.435647         │\n",
       "│ spring ┆ 1.963881         │\n",
       "└────────┴──────────────────┘"
      ]
     },
     "execution_count": 7,
     "metadata": {},
     "output_type": "execute_result"
    }
   ],
   "source": [
    "df_sum = df_season.group_by(\"Season\").agg([\n",
    "    rs.col(\"Minutes of delay\").sum().alias(\"total_delay\"),\n",
    "    rs.col(\"Number of operated trains\").sum().alias(\"total_trains\")\n",
    "])\n",
    "\n",
    "df_avg = df_sum.with_columns(\n",
    "    (rs.col(\"total_delay\") / rs.col(\"total_trains\")).alias(\"Normalized delay\")\n",
    ")\n",
    "\n",
    "# df_sum.select(rs.col(\"Season\"), rs.col(\"total_delay\"), rs.col(\"total_trains\"))\n",
    "df_avg.select(rs.col(\"Season\"), rs.col(\"Normalized delay\"))"
   ]
  },
  {
   "cell_type": "code",
   "execution_count": 8,
   "id": "ce69b5fa-b896-4723-b224-59de64b3d60b",
   "metadata": {
    "ExecuteTime": {
     "end_time": "2025-04-13T11:13:04.537083Z",
     "start_time": "2025-04-13T11:13:04.480009Z"
    }
   },
   "outputs": [
    {
     "data": {
      "image/png": "[encoded data removed]",
      "text/plain": [
       "<Figure size 640x480 with 1 Axes>"
      ]
     },
     "metadata": {},
     "output_type": "display_data"
    }
   ],
   "source": [
    "import matplotlib.pyplot as plt\n",
    "\n",
    "plt.bar(df_avg[\"Season\"], df_avg[\"Normalized delay\"], color=\"skyblue\")\n",
    "plt.xlabel(\"Season\")\n",
    "plt.ylabel(\"Average Value\")\n",
    "plt.title(\"Average Value by Season\")\n",
    "plt.tight_layout()\n",
    "plt.show()"
   ]
  },
  {
   "cell_type": "code",
   "execution_count": 9,
   "id": "e43e42aa-a66c-4759-90ec-e81d27a5f9b7",
   "metadata": {
    "ExecuteTime": {
     "end_time": "2025-04-13T11:13:07.399561Z",
     "start_time": "2025-04-13T11:13:07.393033Z"
    }
   },
   "outputs": [
    {
     "data": {
      "text/html": [
       "<div><style>\n",
       ".dataframe > thead > tr,\n",
       ".dataframe > tbody > tr {\n",
       "  text-align: right;\n",
       "  white-space: pre-wrap;\n",
       "}\n",
       "</style>\n",
       "<small>shape: (24, 3)</small><table border=\"1\" class=\"dataframe\"><thead><tr><th>Season</th><th>Train type</th><th>Normalized delay</th></tr><tr><td>str</td><td>str</td><td>f64</td></tr></thead><tbody><tr><td>&quot;spring&quot;</td><td>&quot;INT&quot;</td><td>34.688312</td></tr><tr><td>&quot;winter&quot;</td><td>&quot;S&quot;</td><td>1.964798</td></tr><tr><td>&quot;spring&quot;</td><td>&quot;L&quot;</td><td>1.620823</td></tr><tr><td>&quot;summer&quot;</td><td>&quot;INT&quot;</td><td>18.517073</td></tr><tr><td>&quot;spring&quot;</td><td>&quot;ICT&quot;</td><td>1.295918</td></tr><tr><td>&hellip;</td><td>&hellip;</td><td>&hellip;</td></tr><tr><td>&quot;spring&quot;</td><td>&quot;S&quot;</td><td>1.907536</td></tr><tr><td>&quot;summer&quot;</td><td>&quot;ICT&quot;</td><td>1.781755</td></tr><tr><td>&quot;autumn&quot;</td><td>&quot;S&quot;</td><td>2.538109</td></tr><tr><td>&quot;autumn&quot;</td><td>&quot;IC&quot;</td><td>2.716901</td></tr><tr><td>&quot;spring&quot;</td><td>&quot;IC&quot;</td><td>2.24437</td></tr></tbody></table></div>"
      ],
      "text/plain": [
       "shape: (24, 3)\n",
       "┌────────┬────────────┬──────────────────┐\n",
       "│ Season ┆ Train type ┆ Normalized delay │\n",
       "│ ---    ┆ ---        ┆ ---              │\n",
       "│ str    ┆ str        ┆ f64              │\n",
       "╞════════╪════════════╪══════════════════╡\n",
       "│ spring ┆ INT        ┆ 34.688312        │\n",
       "│ winter ┆ S          ┆ 1.964798         │\n",
       "│ spring ┆ L          ┆ 1.620823         │\n",
       "│ summer ┆ INT        ┆ 18.517073        │\n",
       "│ spring ┆ ICT        ┆ 1.295918         │\n",
       "│ …      ┆ …          ┆ …                │\n",
       "│ spring ┆ S          ┆ 1.907536         │\n",
       "│ summer ┆ ICT        ┆ 1.781755         │\n",
       "│ autumn ┆ S          ┆ 2.538109         │\n",
       "│ autumn ┆ IC         ┆ 2.716901         │\n",
       "│ spring ┆ IC         ┆ 2.24437          │\n",
       "└────────┴────────────┴──────────────────┘"
      ]
     },
     "execution_count": 9,
     "metadata": {},
     "output_type": "execute_result"
    }
   ],
   "source": [
    "df_sum_train_season = df_season.group_by([\"Train type\", \"Season\"]).agg([\n",
    "    rs.col(\"Minutes of delay\").sum().alias(\"total_delay\"),\n",
    "    rs.col(\"Number of operated trains\").sum().alias(\"total_trains\")\n",
    "])\n",
    "\n",
    "df_avg = df_sum_train_season.with_columns(\n",
    "    (rs.col(\"total_delay\") / rs.col(\"total_trains\")).alias(\"Normalized delay\")\n",
    ")\n",
    "\n",
    "df_avg.select(rs.col(\"Season\"), rs.col(\"Train type\"), rs.col(\"Normalized delay\"))"
   ]
  },
  {
   "cell_type": "code",
   "execution_count": 10,
   "id": "0d6fd0c7-1b3f-4a1d-993a-4cfbb3b94080",
   "metadata": {
    "ExecuteTime": {
     "end_time": "2025-04-13T11:20:09.729756Z",
     "start_time": "2025-04-13T11:20:09.680104Z"
    }
   },
   "outputs": [
    {
     "name": "stdout",
     "output_type": "stream",
     "text": [
      "shape: (4, 5)\n",
      "┌────────────┬────────┬─────────────┬──────────────┬──────────────────┐\n",
      "│ Train type ┆ Season ┆ total_delay ┆ total_trains ┆ Normalized delay │\n",
      "│ ---        ┆ ---    ┆ ---         ┆ ---          ┆ ---              │\n",
      "│ str        ┆ str    ┆ i64         ┆ i64          ┆ f64              │\n",
      "╞════════════╪════════╪═════════════╪══════════════╪══════════════════╡\n",
      "│ IC         ┆ winter ┆ 3179388     ┆ 1391084      ┆ 2.285547         │\n",
      "│ IC         ┆ summer ┆ 2802337     ┆ 1333322      ┆ 2.101771         │\n",
      "│ IC         ┆ autumn ┆ 3572064     ┆ 1314757      ┆ 2.716901         │\n",
      "│ IC         ┆ spring ┆ 2996328     ┆ 1335042      ┆ 2.24437          │\n",
      "└────────────┴────────┴─────────────┴──────────────┴──────────────────┘\n"
     ]
    },
    {
     "data": {
      "image/png": "[encoded data removed]",
      "text/plain": [
       "<Figure size 640x480 with 1 Axes>"
      ]
     },
     "metadata": {},
     "output_type": "display_data"
    }
   ],
   "source": [
    "df_ic = df_avg.filter(rs.col(\"Train type\") == \"IC\")\n",
    "print(df_ic)\n",
    "\n",
    "plt.bar(df_ic[\"Season\"], df_ic[\"Normalized delay\"], color=\"skyblue\")\n",
    "plt.xlabel(\"Season\")\n",
    "plt.ylabel(\"Average Value\")\n",
    "plt.title(\"Average Value by Season - IC only\")\n",
    "plt.tight_layout()\n",
    "plt.show()"
   ]
  },
  {
   "cell_type": "code",
   "execution_count": 11,
   "id": "a829e793-9257-44b5-bd65-f216cda49027",
   "metadata": {
    "ExecuteTime": {
     "end_time": "2025-04-13T11:20:14.833183Z",
     "start_time": "2025-04-13T11:20:14.765388Z"
    }
   },
   "outputs": [
    {
     "data": {
      "image/png": "[encoded data removed]",
      "text/plain": [
       "<Figure size 640x480 with 1 Axes>"
      ]
     },
     "metadata": {},
     "output_type": "display_data"
    }
   ],
   "source": [
    "df_avg_pd = df_avg.to_pandas()\n",
    "df_avg_pd = df_avg_pd.pivot(index='Train type', columns='Season', values='Normalized delay')\n",
    "df_avg_pd.plot(kind=\"bar\", stacked=False)\n",
    "\n",
    "\n",
    "plt.xlabel(\"Train Type\")\n",
    "plt.ylabel(\"Total Normalized Delay\")\n",
    "plt.title(\"Normalized Delay by Train Type and Season\")\n",
    "plt.tight_layout()\n",
    "plt.show()"
   ]
  },
  {
   "cell_type": "markdown",
   "id": "8a6ca2c3-bb01-4d8e-b022-2a07154f095e",
   "metadata": {},
   "source": [
    "# Pas op voor onderstaande grafiek:\n",
    "sommige types trainen hebben geen datapunten over heel de dataset. Oplossen door enkel het jaar te tonen waar alle types datapunten hebben --> mogelijks nutteloze grafiek aangezien dit voor 1 specifiek jaar is?"
   ]
  },
  {
   "cell_type": "code",
   "execution_count": 12,
   "id": "2c26b895-bc98-4cf4-bd40-5da13d8ab315",
   "metadata": {
    "ExecuteTime": {
     "end_time": "2025-04-13T11:20:25.905139Z",
     "start_time": "2025-04-13T11:20:25.897021Z"
    }
   },
   "outputs": [
    {
     "data": {
      "text/html": [
       "<div><style>\n",
       ".dataframe > thead > tr,\n",
       ".dataframe > tbody > tr {\n",
       "  text-align: right;\n",
       "  white-space: pre-wrap;\n",
       "}\n",
       "</style>\n",
       "<small>shape: (3, 4)</small><table border=\"1\" class=\"dataframe\"><thead><tr><th>Train type</th><th>Total operated trains</th><th>Total delayed trains</th><th>Correlation</th></tr><tr><td>str</td><td>i64</td><td>i64</td><td>f64</td></tr></thead><tbody><tr><td>&quot;L&quot;</td><td>5067412</td><td>4647727</td><td>0.91718</td></tr><tr><td>&quot;P&quot;</td><td>827209</td><td>723420</td><td>0.874531</td></tr><tr><td>&quot;IC&quot;</td><td>5374205</td><td>4743625</td><td>0.882665</td></tr></tbody></table></div>"
      ],
      "text/plain": [
       "shape: (3, 4)\n",
       "┌────────────┬───────────────────────┬──────────────────────┬─────────────┐\n",
       "│ Train type ┆ Total operated trains ┆ Total delayed trains ┆ Correlation │\n",
       "│ ---        ┆ ---                   ┆ ---                  ┆ ---         │\n",
       "│ str        ┆ i64                   ┆ i64                  ┆ f64         │\n",
       "╞════════════╪═══════════════════════╪══════════════════════╪═════════════╡\n",
       "│ L          ┆ 5067412               ┆ 4647727              ┆ 0.91718     │\n",
       "│ P          ┆ 827209                ┆ 723420               ┆ 0.874531    │\n",
       "│ IC         ┆ 5374205               ┆ 4743625              ┆ 0.882665    │\n",
       "└────────────┴───────────────────────┴──────────────────────┴─────────────┘"
      ]
     },
     "execution_count": 12,
     "metadata": {},
     "output_type": "execute_result"
    }
   ],
   "source": [
    "# % treinen vertraging vergelijken met hoeveel treinen er rijden\n",
    "\n",
    "df_corr = df_season.filter(rs.col(\"Train type\").is_in([\"IC\", \"L\", \"P\"])).group_by(\"Train type\").agg([\n",
    "        rs.col(\"Number of operated trains\").sum().alias(\"Total operated trains\"),\n",
    "        rs.col(\"Number of trains with a delay inferior to 6 minutes\").sum().alias(\"Total delayed trains\")\n",
    "]).with_columns((rs.col(\"Total delayed trains\") / rs.col(\"Total operated trains\")).alias(\"Correlation\"))\n",
    "\n",
    "df_corr"
   ]
  },
  {
   "cell_type": "code",
   "execution_count": 13,
   "id": "4f836968-0e22-4aa8-945e-eec2d7e1a0fe",
   "metadata": {
    "ExecuteTime": {
     "end_time": "2025-04-13T11:20:28.999295Z",
     "start_time": "2025-04-13T11:20:28.967638Z"
    }
   },
   "outputs": [
    {
     "data": {
      "image/png": "[encoded data removed]",
      "text/plain": [
       "<Figure size 640x480 with 1 Axes>"
      ]
     },
     "metadata": {},
     "output_type": "display_data"
    }
   ],
   "source": [
    "total_sum = df_corr.select(\"Correlation\").sum()[0, 0]\n",
    "\n",
    "plt.pie(df_corr[\"Correlation\"] / total_sum, labels=df_corr[\"Train type\"], autopct='%1.1f%%', startangle=140)\n",
    "plt.title(\"% Of delayed trains over the entire dataset grouped by train type\")\n",
    "plt.show()"
   ]
  },
  {
   "cell_type": "markdown",
   "id": "46ba89bd-a206-46dc-94a9-bb57bce54032",
   "metadata": {},
   "source": [
    "Note: hier is de hele dataset gebruikt, maar de 3 \"speciale\" treinen zijn niet in rekening gebracht. Dit omdat deze amper data in de set bevatten."
   ]
  },
  {
   "cell_type": "code",
   "execution_count": 14,
   "id": "90fece32-e418-4cd1-be98-3fe916aadd95",
   "metadata": {
    "ExecuteTime": {
     "end_time": "2025-04-13T11:20:32.975996Z",
     "start_time": "2025-04-13T11:20:32.965880Z"
    }
   },
   "outputs": [
    {
     "data": {
      "text/html": [
       "<div>\n",
       "<style scoped>\n",
       "    .dataframe tbody tr th:only-of-type {\n",
       "        vertical-align: middle;\n",
       "    }\n",
       "\n",
       "    .dataframe tbody tr th {\n",
       "        vertical-align: top;\n",
       "    }\n",
       "\n",
       "    .dataframe thead th {\n",
       "        text-align: right;\n",
       "    }\n",
       "</style>\n",
       "<table border=\"1\" class=\"dataframe\">\n",
       "  <thead>\n",
       "    <tr style=\"text-align: right;\">\n",
       "      <th></th>\n",
       "      <th>Train type</th>\n",
       "      <th>Delay Type</th>\n",
       "      <th>Delay Value</th>\n",
       "    </tr>\n",
       "  </thead>\n",
       "  <tbody>\n",
       "    <tr>\n",
       "      <th>0</th>\n",
       "      <td>P</td>\n",
       "      <td>Min delay</td>\n",
       "      <td>1185</td>\n",
       "    </tr>\n",
       "    <tr>\n",
       "      <th>1</th>\n",
       "      <td>ICT</td>\n",
       "      <td>Min delay</td>\n",
       "      <td>0</td>\n",
       "    </tr>\n",
       "    <tr>\n",
       "      <th>2</th>\n",
       "      <td>L</td>\n",
       "      <td>Min delay</td>\n",
       "      <td>22640</td>\n",
       "    </tr>\n",
       "    <tr>\n",
       "      <th>3</th>\n",
       "      <td>IC</td>\n",
       "      <td>Min delay</td>\n",
       "      <td>22904</td>\n",
       "    </tr>\n",
       "    <tr>\n",
       "      <th>4</th>\n",
       "      <td>P</td>\n",
       "      <td>Max delay</td>\n",
       "      <td>20799</td>\n",
       "    </tr>\n",
       "    <tr>\n",
       "      <th>5</th>\n",
       "      <td>ICT</td>\n",
       "      <td>Max delay</td>\n",
       "      <td>2317</td>\n",
       "    </tr>\n",
       "    <tr>\n",
       "      <th>6</th>\n",
       "      <td>L</td>\n",
       "      <td>Max delay</td>\n",
       "      <td>86665</td>\n",
       "    </tr>\n",
       "    <tr>\n",
       "      <th>7</th>\n",
       "      <td>IC</td>\n",
       "      <td>Max delay</td>\n",
       "      <td>110430</td>\n",
       "    </tr>\n",
       "  </tbody>\n",
       "</table>\n",
       "</div>"
      ],
      "text/plain": [
       "  Train type Delay Type  Delay Value\n",
       "0          P  Min delay         1185\n",
       "1        ICT  Min delay            0\n",
       "2          L  Min delay        22640\n",
       "3         IC  Min delay        22904\n",
       "4          P  Max delay        20799\n",
       "5        ICT  Max delay         2317\n",
       "6          L  Max delay        86665\n",
       "7         IC  Max delay       110430"
      ]
     },
     "execution_count": 14,
     "metadata": {},
     "output_type": "execute_result"
    }
   ],
   "source": [
    "# min-max in connected dot plot\n",
    "\n",
    "df_1_year = df.filter(rs.col(\"Month\").str.contains(\"2020\"))\n",
    "df_min_max = df_1_year.group_by(\"Train type\").agg([\n",
    "    rs.col(\"Minutes of delay\").min().alias(\"Min delay\"),\n",
    "    rs.col(\"Minutes of delay\").max().alias(\"Max delay\")\n",
    "])\n",
    "\n",
    "df_melted = df_min_max.to_pandas().melt(id_vars=\"Train type\", value_vars=[\"Min delay\", \"Max delay\"], \n",
    "                                   var_name=\"Delay Type\", value_name=\"Delay Value\")\n",
    "df_melted"
   ]
  },
  {
   "cell_type": "code",
   "execution_count": 15,
   "id": "b1fa7511-d2b5-46e3-98bc-8b2705f90577",
   "metadata": {
    "ExecuteTime": {
     "end_time": "2025-04-13T11:20:39.039363Z",
     "start_time": "2025-04-13T11:20:38.984517Z"
    }
   },
   "outputs": [
    {
     "data": {
      "text/plain": [
       "Text(0, 0.5, 'Train Type')"
      ]
     },
     "execution_count": 15,
     "metadata": {},
     "output_type": "execute_result"
    },
    {
     "data": {
      "image/png": "[encoded data removed]",
      "text/plain": [
       "<Figure size 640x480 with 1 Axes>"
      ]
     },
     "metadata": {},
     "output_type": "display_data"
    }
   ],
   "source": [
    "import seaborn as sns\n",
    "\n",
    "# Plot the dots and lines for each category\n",
    "for row in df_min_max.iter_rows(named=True):\n",
    "    # Get the min and max delays for each category\n",
    "    min_delay = row[\"Min delay\"]\n",
    "    max_delay = row[\"Max delay\"]\n",
    "    train_type = row[\"Train type\"]\n",
    "    \n",
    "    # Plot the dots for min and max\n",
    "    plt.scatter([min_delay, max_delay], [train_type, train_type], color='blue', zorder=5)\n",
    "    \n",
    "    # Connect the dots with a line\n",
    "    plt.plot([min_delay, max_delay], [train_type, train_type], color='black', lw=2)\n",
    "\n",
    "# Customize the plot\n",
    "plt.title(\"Min and Max Delay by Train Type\")\n",
    "plt.xlabel(\"Delay Value (Minutes)\")\n",
    "plt.ylabel(\"Train Type\")"
   ]
  },
  {
   "cell_type": "markdown",
   "id": "4b96cec3a287b95b",
   "metadata": {},
   "source": [
    "# Grid of bar chart\n",
    "Cluster bar chart on season, split up on train type"
   ]
  },
  {
   "cell_type": "code",
   "execution_count": 16,
   "id": "a74bd3616bd9bee9",
   "metadata": {
    "ExecuteTime": {
     "end_time": "2025-04-13T13:08:26.692217Z",
     "start_time": "2025-04-13T13:08:26.689505Z"
    }
   },
   "outputs": [],
   "source": [
    "def month_to_season(month: int) -> str:\n",
    "    if month in [1, 2, 12]:\n",
    "        return \"winter\"\n",
    "    if month in [3, 4, 5]:\n",
    "        return \"spring\"\n",
    "    if month in [6, 7, 8]:\n",
    "        return \"summer\"\n",
    "    return \"autumn\""
   ]
  },
  {
   "cell_type": "code",
   "execution_count": 17,
   "id": "960c67f2b41ca5e0",
   "metadata": {
    "ExecuteTime": {
     "end_time": "2025-04-13T13:08:28.206086Z",
     "start_time": "2025-04-13T13:08:28.047199Z"
    }
   },
   "outputs": [
    {
     "data": {
      "image/png": "[encoded data removed]",
      "text/plain": [
       "<Figure size 1200x800 with 6 Axes>"
      ]
     },
     "metadata": {},
     "output_type": "display_data"
    }
   ],
   "source": [
    "fig, ax = plt.subplots(2, 3, figsize=(12, 8))\n",
    "ax = ax.flatten()\n",
    "train_types = [\"IC\", \"ICT\", \"INT\", \"L\", \"P\", \"S\"]\n",
    "\n",
    "season_order = {'spring': 0, 'summer': 1, 'autumn': 2, 'winter': 3}\n",
    "total_sum_season = df_avg.select(\"Normalized delay\").sum()[0, 0]\n",
    "\n",
    "df_season = df.with_columns(\n",
    "    rs.col(\"Month\") \\\n",
    "        .map_elements(lambda e: month_to_season(int(e.split(\"-\")[1])), return_dtype=rs.String) \\\n",
    "        .alias(\"Season\")\n",
    ")\n",
    "\n",
    "df_sum_train_season = df_season.group_by([\"Train type\", \"Season\"]).agg([\n",
    "    rs.col(\"Minutes of delay\").sum().alias(\"total_delay\"),\n",
    "    rs.col(\"Number of operated trains\").sum().alias(\"total_trains\")\n",
    "])\n",
    "\n",
    "df_avg = df_sum_train_season.with_columns(\n",
    "    (rs.col(\"total_delay\") / rs.col(\"total_trains\")).alias(\"Normalized delay\")\n",
    ")\n",
    "df_normalized = df_avg.sort(rs.col(\"Season\").replace_strict(season_order)) \\\n",
    "    .with_columns((rs.col(\"Normalized delay\") / total_sum_season).alias(\"Normalized^2 delay\"))\n",
    "\n",
    "colors = {\n",
    "    \"spring\": \"green\",\n",
    "    \"summer\": \"orange\",\n",
    "    \"autumn\": \"red\",\n",
    "    \"winter\": \"blue\"\n",
    "}\n",
    "\n",
    "for i in range(len(ax)):\n",
    "    frame = df_normalized.filter(rs.col(\"Train type\") == train_types[i])\n",
    "    summed = frame.select(\"Normalized delay\").sum()[0, 0]\n",
    "\n",
    "    normalized_frame = frame.with_columns((rs.col(\"Normalized delay\") / summed).alias(\"Normalized^2 delay\"))\n",
    "\n",
    "    ax[i].bar(normalized_frame[\"Season\"], normalized_frame[\"Normalized^2 delay\"], color=[colors[s] for s in normalized_frame[\"Season\"]])\n",
    "    ax[i].set_title(\"Train type: \" + train_types[i])\n",
    "    ax[i].set_ylim(0, 1)\n",
    "\n",
    "plt.tight_layout(pad=1.0)\n",
    "plt.show()"
   ]
  },
  {
   "cell_type": "markdown",
   "id": "77a605b5d0b4ecd0",
   "metadata": {},
   "source": [
    "# Stacked bar chart"
   ]
  },
  {
   "cell_type": "code",
   "execution_count": 18,
   "id": "680006d835c76175",
   "metadata": {
    "ExecuteTime": {
     "end_time": "2025-04-13T13:14:17.672291Z",
     "start_time": "2025-04-13T13:14:17.664030Z"
    }
   },
   "outputs": [
    {
     "data": {
      "text/html": [
       "<div><style>\n",
       ".dataframe > thead > tr,\n",
       ".dataframe > tbody > tr {\n",
       "  text-align: right;\n",
       "  white-space: pre-wrap;\n",
       "}\n",
       "</style>\n",
       "<small>shape: (12, 7)</small><table border=\"1\" class=\"dataframe\"><thead><tr><th>Train type</th><th>Season</th><th>total_delay</th><th>total_trains</th><th>Normalized delay</th><th>Total sum per train type</th><th>Normalized delay train type</th></tr><tr><td>str</td><td>str</td><td>i64</td><td>i64</td><td>f64</td><td>f64</td><td>f64</td></tr></thead><tbody><tr><td>&quot;L&quot;</td><td>&quot;spring&quot;</td><td>2022389</td><td>1247754</td><td>1.620823</td><td>6.893531</td><td>0.235122</td></tr><tr><td>&quot;P&quot;</td><td>&quot;spring&quot;</td><td>470172</td><td>209209</td><td>2.247379</td><td>9.604713</td><td>0.233987</td></tr><tr><td>&quot;IC&quot;</td><td>&quot;spring&quot;</td><td>2996328</td><td>1335042</td><td>2.24437</td><td>9.348588</td><td>0.240076</td></tr><tr><td>&quot;P&quot;</td><td>&quot;summer&quot;</td><td>329261</td><td>159265</td><td>2.067378</td><td>9.604713</td><td>0.215246</td></tr><tr><td>&quot;L&quot;</td><td>&quot;summer&quot;</td><td>1881960</td><td>1233459</td><td>1.525758</td><td>6.893531</td><td>0.221332</td></tr><tr><td>&hellip;</td><td>&hellip;</td><td>&hellip;</td><td>&hellip;</td><td>&hellip;</td><td>&hellip;</td><td>&hellip;</td></tr><tr><td>&quot;IC&quot;</td><td>&quot;autumn&quot;</td><td>3572064</td><td>1314757</td><td>2.716901</td><td>9.348588</td><td>0.290621</td></tr><tr><td>&quot;P&quot;</td><td>&quot;autumn&quot;</td><td>645621</td><td>231840</td><td>2.78477</td><td>9.604713</td><td>0.289938</td></tr><tr><td>&quot;P&quot;</td><td>&quot;winter&quot;</td><td>568414</td><td>226895</td><td>2.505185</td><td>9.604713</td><td>0.260829</td></tr><tr><td>&quot;IC&quot;</td><td>&quot;winter&quot;</td><td>3179388</td><td>1391084</td><td>2.285547</td><td>9.348588</td><td>0.24448</td></tr><tr><td>&quot;L&quot;</td><td>&quot;winter&quot;</td><td>2307170</td><td>1359053</td><td>1.697631</td><td>6.893531</td><td>0.246264</td></tr></tbody></table></div>"
      ],
      "text/plain": [
       "shape: (12, 7)\n",
       "┌────────────┬────────┬─────────────┬──────────────┬────────────┬───────────────┬─────────────┐\n",
       "│ Train type ┆ Season ┆ total_delay ┆ total_trains ┆ Normalized ┆ Total sum per ┆ Normalized  │\n",
       "│ ---        ┆ ---    ┆ ---         ┆ ---          ┆ delay      ┆ train type    ┆ delay train │\n",
       "│ str        ┆ str    ┆ i64         ┆ i64          ┆ ---        ┆ ---           ┆ type        │\n",
       "│            ┆        ┆             ┆              ┆ f64        ┆ f64           ┆ ---         │\n",
       "│            ┆        ┆             ┆              ┆            ┆               ┆ f64         │\n",
       "╞════════════╪════════╪═════════════╪══════════════╪════════════╪═══════════════╪═════════════╡\n",
       "│ L          ┆ spring ┆ 2022389     ┆ 1247754      ┆ 1.620823   ┆ 6.893531      ┆ 0.235122    │\n",
       "│ P          ┆ spring ┆ 470172      ┆ 209209       ┆ 2.247379   ┆ 9.604713      ┆ 0.233987    │\n",
       "│ IC         ┆ spring ┆ 2996328     ┆ 1335042      ┆ 2.24437    ┆ 9.348588      ┆ 0.240076    │\n",
       "│ P          ┆ summer ┆ 329261      ┆ 159265       ┆ 2.067378   ┆ 9.604713      ┆ 0.215246    │\n",
       "│ L          ┆ summer ┆ 1881960     ┆ 1233459      ┆ 1.525758   ┆ 6.893531      ┆ 0.221332    │\n",
       "│ …          ┆ …      ┆ …           ┆ …            ┆ …          ┆ …             ┆ …           │\n",
       "│ IC         ┆ autumn ┆ 3572064     ┆ 1314757      ┆ 2.716901   ┆ 9.348588      ┆ 0.290621    │\n",
       "│ P          ┆ autumn ┆ 645621      ┆ 231840       ┆ 2.78477    ┆ 9.604713      ┆ 0.289938    │\n",
       "│ P          ┆ winter ┆ 568414      ┆ 226895       ┆ 2.505185   ┆ 9.604713      ┆ 0.260829    │\n",
       "│ IC         ┆ winter ┆ 3179388     ┆ 1391084      ┆ 2.285547   ┆ 9.348588      ┆ 0.24448     │\n",
       "│ L          ┆ winter ┆ 2307170     ┆ 1359053      ┆ 1.697631   ┆ 6.893531      ┆ 0.246264    │\n",
       "└────────────┴────────┴─────────────┴──────────────┴────────────┴───────────────┴─────────────┘"
      ]
     },
     "execution_count": 18,
     "metadata": {},
     "output_type": "execute_result"
    }
   ],
   "source": [
    "train_types = [\"IC\", \"L\", \"P\"]\n",
    "season_order = {'spring': 0, 'summer': 1, 'autumn': 2, 'winter': 3}\n",
    "\n",
    "df_season = df.with_columns(\n",
    "    rs.col(\"Month\") \\\n",
    "        .map_elements(lambda e: month_to_season(int(e.split(\"-\")[1])), return_dtype=rs.String) \\\n",
    "        .alias(\"Season\")\n",
    ")\n",
    "\n",
    "df_sum_train_season = df_season \\\n",
    "    .filter(rs.col(\"Train type\") \\\n",
    "    .is_in(train_types)).group_by([\"Train type\", \"Season\"]) \\\n",
    "    .agg([\n",
    "        rs.col(\"Minutes of delay\").sum().alias(\"total_delay\"),\n",
    "        rs.col(\"Number of operated trains\").sum().alias(\"total_trains\")\n",
    "    ])\n",
    "\n",
    "df_avg = df_sum_train_season.with_columns(\n",
    "    (rs.col(\"total_delay\") / rs.col(\"total_trains\")).alias(\"Normalized delay\")\n",
    ")\n",
    "\n",
    "df_train_type_sum = df_avg.group_by(\"Train type\").agg(\n",
    "    rs.col(\"Normalized delay\").sum().alias(\"Total sum per train type\")\n",
    ")\n",
    "\n",
    "joined = df_avg.join(df_train_type_sum, on=\"Train type\", how=\"inner\")\n",
    "\n",
    "df_normalized = joined \\\n",
    "    .with_columns((rs.col(\"Normalized delay\") / rs.col(\"Total sum per train type\")) \\\n",
    "         .alias(\"Normalized delay train type\")\n",
    "    )  \\\n",
    "    .sort(rs.col(\"Season\").replace_strict(season_order))\n",
    "df_normalized"
   ]
  },
  {
   "cell_type": "code",
   "execution_count": 19,
   "id": "86b9abcd-7116-424b-80c8-fabcf829bb63",
   "metadata": {},
   "outputs": [
    {
     "data": {
      "text/html": [
       "\n",
       "<style>\n",
       "  #altair-viz-0e07557b1446468cb02a0da1716cca55.vega-embed {\n",
       "    width: 100%;\n",
       "    display: flex;\n",
       "  }\n",
       "\n",
       "  #altair-viz-0e07557b1446468cb02a0da1716cca55.vega-embed details,\n",
       "  #altair-viz-0e07557b1446468cb02a0da1716cca55.vega-embed details summary {\n",
       "    position: relative;\n",
       "  }\n",
       "</style>\n",
       "<div id=\"altair-viz-0e07557b1446468cb02a0da1716cca55\"></div>\n",
       "<script type=\"text/javascript\">\n",
       "  var VEGA_DEBUG = (typeof VEGA_DEBUG == \"undefined\") ? {} : VEGA_DEBUG;\n",
       "  (function(spec, embedOpt){\n",
       "    let outputDiv = document.currentScript.previousElementSibling;\n",
       "    if (outputDiv.id !== \"altair-viz-0e07557b1446468cb02a0da1716cca55\") {\n",
       "      outputDiv = document.getElementById(\"altair-viz-0e07557b1446468cb02a0da1716cca55\");\n",
       "    }\n",
       "\n",
       "    const paths = {\n",
       "      \"vega\": \"https://cdn.jsdelivr.net/npm/vega@5?noext\",\n",
       "      \"vega-lib\": \"https://cdn.jsdelivr.net/npm/vega-lib?noext\",\n",
       "      \"vega-lite\": \"https://cdn.jsdelivr.net/npm/vega-lite@5.20.1?noext\",\n",
       "      \"vega-embed\": \"https://cdn.jsdelivr.net/npm/vega-embed@6?noext\",\n",
       "    };\n",
       "\n",
       "    function maybeLoadScript(lib, version) {\n",
       "      var key = `${lib.replace(\"-\", \"\")}_version`;\n",
       "      return (VEGA_DEBUG[key] == version) ?\n",
       "        Promise.resolve(paths[lib]) :\n",
       "        new Promise(function(resolve, reject) {\n",
       "          var s = document.createElement('script');\n",
       "          document.getElementsByTagName(\"head\")[0].appendChild(s);\n",
       "          s.async = true;\n",
       "          s.onload = () => {\n",
       "            VEGA_DEBUG[key] = version;\n",
       "            return resolve(paths[lib]);\n",
       "          };\n",
       "          s.onerror = () => reject(`Error loading script: ${paths[lib]}`);\n",
       "          s.src = paths[lib];\n",
       "        });\n",
       "    }\n",
       "\n",
       "    function showError(err) {\n",
       "      outputDiv.innerHTML = `<div class=\"error\" style=\"color:red;\">${err}</div>`;\n",
       "      throw err;\n",
       "    }\n",
       "\n",
       "    function displayChart(vegaEmbed) {\n",
       "      vegaEmbed(outputDiv, spec, embedOpt)\n",
       "        .catch(err => showError(`Javascript Error: ${err.message}<br>This usually means there's a typo in your chart specification. See the javascript console for the full traceback.`));\n",
       "    }\n",
       "\n",
       "    if(typeof define === \"function\" && define.amd) {\n",
       "      requirejs.config({paths});\n",
       "      let deps = [\"vega-embed\"];\n",
       "      require(deps, displayChart, err => showError(`Error loading script: ${err.message}`));\n",
       "    } else {\n",
       "      maybeLoadScript(\"vega\", \"5\")\n",
       "        .then(() => maybeLoadScript(\"vega-lite\", \"5.20.1\"))\n",
       "        .then(() => maybeLoadScript(\"vega-embed\", \"6\"))\n",
       "        .catch(showError)\n",
       "        .then(() => displayChart(vegaEmbed));\n",
       "    }\n",
       "  })({\"config\": {\"view\": {\"continuousWidth\": 300, \"continuousHeight\": 300}}, \"data\": {\"name\": \"data-5f48de87a3655a7c884b1a67dd829245\"}, \"mark\": {\"type\": \"bar\", \"tooltip\": true}, \"encoding\": {\"color\": {\"field\": \"Season\", \"type\": \"nominal\"}, \"x\": {\"field\": \"Train type\", \"type\": \"nominal\"}, \"y\": {\"field\": \"Normalized delay train type\", \"type\": \"quantitative\"}}, \"height\": 300, \"params\": [{\"name\": \"param_1\", \"select\": {\"type\": \"interval\", \"encodings\": [\"x\", \"y\"]}, \"bind\": \"scales\"}], \"width\": 400, \"$schema\": \"https://vega.github.io/schema/vega-lite/v5.20.1.json\", \"datasets\": {\"data-5f48de87a3655a7c884b1a67dd829245\": [{\"Train type\": \"L\", \"Season\": \"spring\", \"total_delay\": 2022389, \"total_trains\": 1247754, \"Normalized delay\": 1.6208234956569965, \"Total sum per train type\": 6.893531491257635, \"Normalized delay train type\": 0.2351223748977606}, {\"Train type\": \"P\", \"Season\": \"spring\", \"total_delay\": 470172, \"total_trains\": 209209, \"Normalized delay\": 2.2473794148435298, \"Total sum per train type\": 9.604712570335492, \"Normalized delay train type\": 0.23398715978077717}, {\"Train type\": \"IC\", \"Season\": \"spring\", \"total_delay\": 2996328, \"total_trains\": 1335042, \"Normalized delay\": 2.244369840049976, \"Total sum per train type\": 9.348588091135708, \"Normalized delay train type\": 0.24007580804400594}, {\"Train type\": \"P\", \"Season\": \"summer\", \"total_delay\": 329261, \"total_trains\": 159265, \"Normalized delay\": 2.0673782689228646, \"Total sum per train type\": 9.604712570335492, \"Normalized delay train type\": 0.21524624019546804}, {\"Train type\": \"L\", \"Season\": \"summer\", \"total_delay\": 1881960, \"total_trains\": 1233459, \"Normalized delay\": 1.5257580511391136, \"Total sum per train type\": 6.893531491257635, \"Normalized delay train type\": 0.22133184610443535}, {\"Train type\": \"IC\", \"Season\": \"summer\", \"total_delay\": 2802337, \"total_trains\": 1333322, \"Normalized delay\": 2.1017706150502278, \"Total sum per train type\": 9.348588091135708, \"Normalized delay train type\": 0.2248222506501402}, {\"Train type\": \"L\", \"Season\": \"autumn\", \"total_delay\": 2514814, \"total_trains\": 1227146, \"Normalized delay\": 2.049319314898146, \"Total sum per train type\": 6.893531491257635, \"Normalized delay train type\": 0.2972814902633127}, {\"Train type\": \"IC\", \"Season\": \"autumn\", \"total_delay\": 3572064, \"total_trains\": 1314757, \"Normalized delay\": 2.7169005375137765, \"Total sum per train type\": 9.348588091135708, \"Normalized delay train type\": 0.2906214832686799}, {\"Train type\": \"P\", \"Season\": \"autumn\", \"total_delay\": 645621, \"total_trains\": 231840, \"Normalized delay\": 2.78476966873706, \"Total sum per train type\": 9.604712570335492, \"Normalized delay train type\": 0.28993784544244705}, {\"Train type\": \"P\", \"Season\": \"winter\", \"total_delay\": 568414, \"total_trains\": 226895, \"Normalized delay\": 2.505185217832037, \"Total sum per train type\": 9.604712570335492, \"Normalized delay train type\": 0.26082875458130766}, {\"Train type\": \"IC\", \"Season\": \"winter\", \"total_delay\": 3179388, \"total_trains\": 1391084, \"Normalized delay\": 2.2855470985217283, \"Total sum per train type\": 9.348588091135708, \"Normalized delay train type\": 0.24448045803717403}, {\"Train type\": \"L\", \"Season\": \"winter\", \"total_delay\": 2307170, \"total_trains\": 1359053, \"Normalized delay\": 1.6976306295633798, \"Total sum per train type\": 6.893531491257635, \"Normalized delay train type\": 0.2462642887344915}]}}, {\"mode\": \"vega-lite\"});\n",
       "</script>"
      ],
      "text/plain": [
       "alt.Chart(...)"
      ]
     },
     "execution_count": 19,
     "metadata": {},
     "output_type": "execute_result"
    }
   ],
   "source": [
    "df_normalized.plot.bar(x=\"Train type\", y=\"Normalized delay train type\", color=\"Season\") \\\n",
    "    .properties(width=400, height=300)"
   ]
  }
 ],
 "metadata": {
  "kernelspec": {
   "display_name": "Python 3 (ipykernel)",
   "language": "python",
   "name": "python3"
  },
  "language_info": {
   "codemirror_mode": {
    "name": "ipython",
    "version": 3
   },
   "file_extension": ".py",
   "mimetype": "text/x-python",
   "name": "python",
   "nbconvert_exporter": "python",
   "pygments_lexer": "ipython3",
   "version": "3.12.9"
  }
 },
 "nbformat": 4,
 "nbformat_minor": 5
}
